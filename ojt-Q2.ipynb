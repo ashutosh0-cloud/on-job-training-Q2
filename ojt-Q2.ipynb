{
 "cells": [
  {
   "cell_type": "code",
   "execution_count": 1,
   "id": "dbc03316",
   "metadata": {},
   "outputs": [],
   "source": [
    "#Q2. Row Echelon Form: Create a 5x5 matrix, A, with entries randomly chosen integers between 0 and 9. To generate the random matrix, set the random seed as the last two digits of your roll number. Reduce matrix A to its Row Echelon Form by performing elementary row operations. \n"
   ]
  },
  {
   "cell_type": "code",
   "execution_count": 10,
   "id": "889c89b1",
   "metadata": {},
   "outputs": [
    {
     "name": "stdout",
     "output_type": "stream",
     "text": [
      "Matrix A:\n",
      "[[3 9 8 0 7]\n",
      " [1 9 4 2 1]\n",
      " [9 7 6 0 7]\n",
      " [0 3 6 7 3]\n",
      " [3 5 7 4 7]]\n",
      "\n",
      "Row Echelon Form of Matrix A:\n",
      "[[ 1.          3.          2.66666667  0.          2.33333333]\n",
      " [ 0.          1.          0.22222222  0.33333333 -0.22222222]\n",
      " [-0.         -0.          1.         -0.49180328  1.36065574]\n",
      " [ 0.          0.          0.          1.         -0.41634981]\n",
      " [ 0.          0.          0.          0.          1.        ]]\n"
     ]
    }
   ],
   "source": [
    "import numpy as np\n",
    "A = np.random.randint(0, 10, (5, 5))\n",
    "print(\"Matrix A:\")\n",
    "print(A)\n",
    "A = A.astype(float)\n",
    "rows, cols = A.shape\n",
    "for r in range(rows):\n",
    "    pivot = A[r, r]\n",
    "    if pivot != 0:\n",
    "        A[r] = A[r] / pivot\n",
    "    for r2 in range(r + 1, rows):\n",
    "        multiplier = A[r2, r]\n",
    "        A[r2] = A[r2] - multiplier * A[r]\n",
    "\n",
    "print(\"\\nRow Echelon Form of Matrix A:\")\n",
    "print(A)\n"
   ]
  },
  {
   "cell_type": "code",
   "execution_count": null,
   "id": "ccf253ea",
   "metadata": {},
   "outputs": [],
   "source": []
  }
 ],
 "metadata": {
  "kernelspec": {
   "display_name": "Python 3 (ipykernel)",
   "language": "python",
   "name": "python3"
  },
  "language_info": {
   "codemirror_mode": {
    "name": "ipython",
    "version": 3
   },
   "file_extension": ".py",
   "mimetype": "text/x-python",
   "name": "python",
   "nbconvert_exporter": "python",
   "pygments_lexer": "ipython3",
   "version": "3.11.5"
  }
 },
 "nbformat": 4,
 "nbformat_minor": 5
}
